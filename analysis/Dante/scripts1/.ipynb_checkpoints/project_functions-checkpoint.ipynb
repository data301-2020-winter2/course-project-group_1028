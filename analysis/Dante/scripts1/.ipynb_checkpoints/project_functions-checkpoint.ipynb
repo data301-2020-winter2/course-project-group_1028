{
 "cells": [
  {
   "cell_type": "code",
   "execution_count": 2,
   "metadata": {},
   "outputs": [],
   "source": [
    "def load_and_process(path):\n",
    "    \n",
    "    import pandas as pd\n",
    "    load = (\n",
    "    pd.read_csv(path,header = None)\n",
    "    .rename(columns={0:\"instant\",1:\"dteday\",2:\"season\",3:\"yr\",4:\"mnth\",5:\"hr\",6:\"holiday\",7:\"weekday\",\n",
    "                     8:\"workingday\",9:\"weathersit\",10:\"temp\",11:\"atemp\",12:\"hum\",13:\"windspeed\",\n",
    "                     14:\"casual\",15:\"registered\",16:\"cnt\"})\n",
    "    .dropna()\n",
    "    .rename(index = lambda x: x + 1) \n",
    "    )\n",
    "\n",
    "    return load"
   ]
  },
  {
   "cell_type": "code",
   "execution_count": null,
   "metadata": {},
   "outputs": [],
   "source": []
  }
 ],
 "metadata": {
  "kernelspec": {
   "display_name": "Python 3",
   "language": "python",
   "name": "python3"
  },
  "language_info": {
   "codemirror_mode": {
    "name": "ipython",
    "version": 3
   },
   "file_extension": ".py",
   "mimetype": "text/x-python",
   "name": "python",
   "nbconvert_exporter": "python",
   "pygments_lexer": "ipython3",
   "version": "3.8.5"
  }
 },
 "nbformat": 4,
 "nbformat_minor": 4
}
